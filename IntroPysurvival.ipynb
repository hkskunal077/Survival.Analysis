{
  "nbformat": 4,
  "nbformat_minor": 0,
  "metadata": {
    "colab": {
      "name": "IntroPysurvival.ipynb",
      "provenance": [],
      "authorship_tag": "ABX9TyNdFHxXol0Sncb6DlG2sc58",
      "include_colab_link": true
    },
    "kernelspec": {
      "name": "python3",
      "display_name": "Python 3"
    },
    "language_info": {
      "name": "python"
    }
  },
  "cells": [
    {
      "cell_type": "markdown",
      "metadata": {
        "id": "view-in-github",
        "colab_type": "text"
      },
      "source": [
        "<a href=\"https://colab.research.google.com/github/kunal077/Survival.Analysis/blob/main/IntroPysurvival.ipynb\" target=\"_parent\"><img src=\"https://colab.research.google.com/assets/colab-badge.svg\" alt=\"Open In Colab\"/></a>"
      ]
    },
    {
      "cell_type": "code",
      "metadata": {
        "colab": {
          "base_uri": "https://localhost:8080/"
        },
        "id": "BwgmbXnghMKz",
        "outputId": "e11b3efd-b198-44cb-8834-fc0010496738"
      },
      "source": [
        "!pip install pysurvival"
      ],
      "execution_count": 1,
      "outputs": [
        {
          "output_type": "stream",
          "text": [
            "Collecting pysurvival\n",
            "\u001b[?25l  Downloading https://files.pythonhosted.org/packages/13/dd/d7bf69b6e1e0d1cd243b39577867c15d092404d5bc7afef3ae135b50717f/pysurvival-0.1.2.tar.gz (4.7MB)\n",
            "\u001b[K     |████████████████████████████████| 4.8MB 5.0MB/s \n",
            "\u001b[?25hRequirement already satisfied: matplotlib in /usr/local/lib/python3.7/dist-packages (from pysurvival) (3.2.2)\n",
            "Requirement already satisfied: numpy in /usr/local/lib/python3.7/dist-packages (from pysurvival) (1.19.5)\n",
            "Requirement already satisfied: pandas in /usr/local/lib/python3.7/dist-packages (from pysurvival) (1.1.5)\n",
            "Requirement already satisfied: pip in /usr/local/lib/python3.7/dist-packages (from pysurvival) (19.3.1)\n",
            "Collecting progressbar\n",
            "  Downloading https://files.pythonhosted.org/packages/a3/a6/b8e451f6cff1c99b4747a2f7235aa904d2d49e8e1464e0b798272aa84358/progressbar-2.5.tar.gz\n",
            "Requirement already satisfied: pyarrow in /usr/local/lib/python3.7/dist-packages (from pysurvival) (3.0.0)\n",
            "Requirement already satisfied: scikit-learn in /usr/local/lib/python3.7/dist-packages (from pysurvival) (0.22.2.post1)\n",
            "Requirement already satisfied: scipy in /usr/local/lib/python3.7/dist-packages (from pysurvival) (1.4.1)\n",
            "Requirement already satisfied: sklearn in /usr/local/lib/python3.7/dist-packages (from pysurvival) (0.0)\n",
            "Requirement already satisfied: torch in /usr/local/lib/python3.7/dist-packages (from pysurvival) (1.9.0+cu102)\n",
            "Requirement already satisfied: python-dateutil>=2.1 in /usr/local/lib/python3.7/dist-packages (from matplotlib->pysurvival) (2.8.1)\n",
            "Requirement already satisfied: pyparsing!=2.0.4,!=2.1.2,!=2.1.6,>=2.0.1 in /usr/local/lib/python3.7/dist-packages (from matplotlib->pysurvival) (2.4.7)\n",
            "Requirement already satisfied: kiwisolver>=1.0.1 in /usr/local/lib/python3.7/dist-packages (from matplotlib->pysurvival) (1.3.1)\n",
            "Requirement already satisfied: cycler>=0.10 in /usr/local/lib/python3.7/dist-packages (from matplotlib->pysurvival) (0.10.0)\n",
            "Requirement already satisfied: pytz>=2017.2 in /usr/local/lib/python3.7/dist-packages (from pandas->pysurvival) (2018.9)\n",
            "Requirement already satisfied: joblib>=0.11 in /usr/local/lib/python3.7/dist-packages (from scikit-learn->pysurvival) (1.0.1)\n",
            "Requirement already satisfied: typing-extensions in /usr/local/lib/python3.7/dist-packages (from torch->pysurvival) (3.7.4.3)\n",
            "Requirement already satisfied: six>=1.5 in /usr/local/lib/python3.7/dist-packages (from python-dateutil>=2.1->matplotlib->pysurvival) (1.15.0)\n",
            "Building wheels for collected packages: pysurvival, progressbar\n",
            "  Building wheel for pysurvival (setup.py) ... \u001b[?25l\u001b[?25hdone\n",
            "  Created wheel for pysurvival: filename=pysurvival-0.1.2-cp37-cp37m-linux_x86_64.whl size=3773009 sha256=09f5952bf0e1cd49d25b7fbe66920d92a00e7017bdae3f2ff2d3eccab4b19712\n",
            "  Stored in directory: /root/.cache/pip/wheels/6c/23/e8/6feb0c4432219666bdd5d33828d7d9f429c4726f34c6fa8061\n",
            "  Building wheel for progressbar (setup.py) ... \u001b[?25l\u001b[?25hdone\n",
            "  Created wheel for progressbar: filename=progressbar-2.5-cp37-none-any.whl size=12083 sha256=d0f0ba367ad6f6e49ec15e84567c2d7266a9b7612f3ebc5ce9c300b08277c38f\n",
            "  Stored in directory: /root/.cache/pip/wheels/c0/e9/6b/ea01090205e285175842339aa3b491adeb4015206cda272ff0\n",
            "Successfully built pysurvival progressbar\n",
            "Installing collected packages: progressbar, pysurvival\n",
            "Successfully installed progressbar-2.5 pysurvival-0.1.2\n"
          ],
          "name": "stdout"
        }
      ]
    },
    {
      "cell_type": "code",
      "metadata": {
        "colab": {
          "base_uri": "https://localhost:8080/",
          "height": 196
        },
        "id": "SY7KWO3phU0V",
        "outputId": "fb828b9b-4ee3-44b6-b227-1d1d4074a73a"
      },
      "source": [
        "# Importing modules\n",
        "import pandas as pd\n",
        "import numpy as np\n",
        "from matplotlib import pyplot as plt\n",
        "from pysurvival.datasets import Dataset\n",
        "%pylab inline\n",
        "\n",
        "# Reading the dataset\n",
        "raw_dataset = Dataset('credit_risk').load()\n",
        "print(\"The raw_dataset has the following shape: {}.\".format(raw_dataset.shape))\n",
        "raw_dataset.head(3)"
      ],
      "execution_count": 2,
      "outputs": [
        {
          "output_type": "stream",
          "text": [
            "Populating the interactive namespace from numpy and matplotlib\n",
            "The raw_dataset has the following shape: (1000, 21).\n"
          ],
          "name": "stdout"
        },
        {
          "output_type": "execute_result",
          "data": {
            "text/html": [
              "<div>\n",
              "<style scoped>\n",
              "    .dataframe tbody tr th:only-of-type {\n",
              "        vertical-align: middle;\n",
              "    }\n",
              "\n",
              "    .dataframe tbody tr th {\n",
              "        vertical-align: top;\n",
              "    }\n",
              "\n",
              "    .dataframe thead th {\n",
              "        text-align: right;\n",
              "    }\n",
              "</style>\n",
              "<table border=\"1\" class=\"dataframe\">\n",
              "  <thead>\n",
              "    <tr style=\"text-align: right;\">\n",
              "      <th></th>\n",
              "      <th>checking_account_status</th>\n",
              "      <th>duration</th>\n",
              "      <th>credit_history</th>\n",
              "      <th>purpose</th>\n",
              "      <th>amount</th>\n",
              "      <th>savings_account_status</th>\n",
              "      <th>employment_years</th>\n",
              "      <th>installment_rate</th>\n",
              "      <th>personal_status</th>\n",
              "      <th>other_debtors</th>\n",
              "      <th>present_residence</th>\n",
              "      <th>property</th>\n",
              "      <th>age</th>\n",
              "      <th>other_installment_plans</th>\n",
              "      <th>housing</th>\n",
              "      <th>number_of_credits</th>\n",
              "      <th>job</th>\n",
              "      <th>people_liable</th>\n",
              "      <th>telephone</th>\n",
              "      <th>foreign_worker</th>\n",
              "      <th>full_repaid</th>\n",
              "    </tr>\n",
              "  </thead>\n",
              "  <tbody>\n",
              "    <tr>\n",
              "      <th>0</th>\n",
              "      <td>below_0</td>\n",
              "      <td>6</td>\n",
              "      <td>critical_account</td>\n",
              "      <td>radio_TV</td>\n",
              "      <td>1169</td>\n",
              "      <td>unknown</td>\n",
              "      <td>above_7</td>\n",
              "      <td>4</td>\n",
              "      <td>M_single</td>\n",
              "      <td>None</td>\n",
              "      <td>4</td>\n",
              "      <td>real_estate</td>\n",
              "      <td>67</td>\n",
              "      <td>None</td>\n",
              "      <td>own</td>\n",
              "      <td>2</td>\n",
              "      <td>official</td>\n",
              "      <td>1</td>\n",
              "      <td>1</td>\n",
              "      <td>1</td>\n",
              "      <td>1</td>\n",
              "    </tr>\n",
              "    <tr>\n",
              "      <th>1</th>\n",
              "      <td>0_to_200</td>\n",
              "      <td>48</td>\n",
              "      <td>existing_credit_paid</td>\n",
              "      <td>radio_TV</td>\n",
              "      <td>5951</td>\n",
              "      <td>below_100</td>\n",
              "      <td>between_1_4</td>\n",
              "      <td>2</td>\n",
              "      <td>F_not_single</td>\n",
              "      <td>None</td>\n",
              "      <td>2</td>\n",
              "      <td>real_estate</td>\n",
              "      <td>22</td>\n",
              "      <td>None</td>\n",
              "      <td>own</td>\n",
              "      <td>1</td>\n",
              "      <td>official</td>\n",
              "      <td>1</td>\n",
              "      <td>0</td>\n",
              "      <td>1</td>\n",
              "      <td>0</td>\n",
              "    </tr>\n",
              "    <tr>\n",
              "      <th>2</th>\n",
              "      <td>no_account</td>\n",
              "      <td>12</td>\n",
              "      <td>critical_account</td>\n",
              "      <td>education</td>\n",
              "      <td>2096</td>\n",
              "      <td>below_100</td>\n",
              "      <td>between_4_7</td>\n",
              "      <td>2</td>\n",
              "      <td>M_single</td>\n",
              "      <td>None</td>\n",
              "      <td>3</td>\n",
              "      <td>real_estate</td>\n",
              "      <td>49</td>\n",
              "      <td>None</td>\n",
              "      <td>own</td>\n",
              "      <td>1</td>\n",
              "      <td>unskilled</td>\n",
              "      <td>2</td>\n",
              "      <td>0</td>\n",
              "      <td>1</td>\n",
              "      <td>1</td>\n",
              "    </tr>\n",
              "  </tbody>\n",
              "</table>\n",
              "</div>"
            ],
            "text/plain": [
              "  checking_account_status  duration  ... foreign_worker full_repaid\n",
              "0                 below_0         6  ...              1           1\n",
              "1                0_to_200        48  ...              1           0\n",
              "2              no_account        12  ...              1           1\n",
              "\n",
              "[3 rows x 21 columns]"
            ]
          },
          "metadata": {
            "tags": []
          },
          "execution_count": 2
        }
      ]
    },
    {
      "cell_type": "code",
      "metadata": {
        "id": "ZiTlvn-8h0Ju"
      },
      "source": [
        "# From category to numerical\n",
        "category_columns = [\n",
        "    'checking_account_status', 'credit_history', 'purpose',\n",
        "    'savings_account_status', 'employment_years', 'personal_status',\n",
        "    'other_debtors', 'property', 'other_installment_plans', 'housing', 'job']\n",
        "dataset = pd.get_dummies(raw_dataset, columns=category_columns, drop_first=True)\n",
        "\n",
        "# Creating the time and event columns\n",
        "time_column = 'duration'\n",
        "event_column = 'full_repaid'\n",
        "\n",
        "# Creating the features\n",
        "features = np.setdiff1d(dataset.columns, [time_column, event_column] ).tolist()"
      ],
      "execution_count": 3,
      "outputs": []
    }
  ]
}